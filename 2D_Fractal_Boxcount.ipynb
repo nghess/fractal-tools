{
  "nbformat": 4,
  "nbformat_minor": 0,
  "metadata": {
    "colab": {
      "name": "2D Fractal Boxcount.ipynb",
      "provenance": [],
      "collapsed_sections": [],
      "authorship_tag": "ABX9TyNI+/iiMUz8Eqcr/nTs3lKx"
    },
    "kernelspec": {
      "name": "python3",
      "display_name": "Python 3"
    },
    "language_info": {
      "name": "python"
    }
  },
  "cells": [
    {
      "cell_type": "code",
      "source": [
        "import numpy as np\n",
        "import cv2\n",
        "from os import listdir\n",
        "from os.path import isfile, join\n",
        "import matplotlib.pyplot as plt\n",
        "from google.colab.patches import cv2_imshow"
      ],
      "metadata": {
        "id": "uy-AqyXmuuPp"
      },
      "execution_count": 27,
      "outputs": []
    },
    {
      "cell_type": "code",
      "source": [
        "from google.colab import drive\n",
        "drive.mount('/content/drive')\n",
        "mypath = '/content/drive/My Drive/hd trees/'"
      ],
      "metadata": {
        "id": "vU5jIgCmdieh",
        "colab": {
          "base_uri": "https://localhost:8080/"
        },
        "outputId": "3f8f744f-b319-4c05-938e-7ee788bfd407"
      },
      "execution_count": 29,
      "outputs": [
        {
          "output_type": "stream",
          "name": "stdout",
          "text": [
            "Drive already mounted at /content/drive; to attempt to forcibly remount, call drive.mount(\"/content/drive\", force_remount=True).\n"
          ]
        }
      ]
    },
    {
      "cell_type": "markdown",
      "source": [
        "#Import and Process Images"
      ],
      "metadata": {
        "id": "0GVKq3JI6pPT"
      }
    },
    {
      "cell_type": "code",
      "source": [
        "# Import and Process Images\n",
        "filenames = [f for f in listdir(mypath) if isfile(join(mypath, f))]\n",
        "images = []\n",
        "\n",
        "# Define lower and uppper limits of what we call sky\n",
        "sky_lo=np.array([128,0,0])\n",
        "sky_hi=np.array([255,220,220])\n",
        "\n",
        "# Iterate through folder\n",
        "for i in range(len(filenames)):\n",
        "  image = (cv2.imread(mypath+filenames[i],1))\n",
        "  #image = cv2.resize(image, None, fx=0.75, fy=0.75, interpolation=cv2.INTER_AREA)\n",
        "  \n",
        "  # Mask image to only select sky\n",
        "  mask = cv2.inRange(image,sky_lo,sky_hi)\n",
        "\n",
        "  # Change image to white where we found sky\n",
        "  image[mask>0]=(255,255,255)\n",
        "\n",
        "  # Threshold\n",
        "  gray = cv2.cvtColor(image, cv2.COLOR_BGR2GRAY)\n",
        "  thresh, image = cv2.threshold(gray, 128, 255, cv2.THRESH_OTSU)\n",
        "\n",
        "  # Add image to array\n",
        "  images.append(image)\n",
        "\n",
        "  # Write to drive\n",
        "  cv2.imwrite(f'{mypath}/processed/{filenames[i]}', image)\n",
        "\n",
        "  print(f'{i+1/len(filenames):.2%}')"
      ],
      "metadata": {
        "colab": {
          "base_uri": "https://localhost:8080/"
        },
        "id": "9VGU47wXd2j4",
        "outputId": "92efff4f-a545-4694-ad9f-04435d979d4b"
      },
      "execution_count": 111,
      "outputs": [
        {
          "output_type": "stream",
          "name": "stdout",
          "text": [
            "0.00%\n",
            "10.00%\n",
            "20.00%\n",
            "30.00%\n",
            "40.00%\n",
            "50.00%\n",
            "60.00%\n",
            "70.00%\n",
            "80.00%\n",
            "90.00%\n"
          ]
        }
      ]
    },
    {
      "cell_type": "code",
      "source": [
        "edges = []\n",
        "\n",
        "# Canny Edge Detection\n",
        "for i in range(len(images)):\n",
        "  canny = cv2.Canny(images[i], 100, 200)\n",
        "  # Invert Image\n",
        "  edges.append(cv2.bitwise_not(canny))\n",
        "  # Write to drive\n",
        "  cv2.imwrite(f'{mypath}/processed/canny_{filenames[i]}', image)"
      ],
      "metadata": {
        "id": "cLwg1DBvfj0p"
      },
      "execution_count": 113,
      "outputs": []
    },
    {
      "cell_type": "markdown",
      "source": [
        "# Box Counting Function"
      ],
      "metadata": {
        "id": "xh9RQc3B61Iq"
      }
    },
    {
      "cell_type": "code",
      "source": [
        "def fractal_dimension(Z, threshold=0.9):\n",
        "\n",
        "    # Only for 2d image\n",
        "    assert(len(Z.shape) == 2)\n",
        "\n",
        "    # From https://github.com/rougier/numpy-100 (#87)\n",
        "    def boxcount(Z, k):\n",
        "        S = np.add.reduceat(\n",
        "            np.add.reduceat(Z, np.arange(0, Z.shape[0], k), axis=0),\n",
        "                               np.arange(0, Z.shape[1], k), axis=1)\n",
        "\n",
        "        # We count non-empty (0) and non-full boxes (k*k)\n",
        "        return len(np.where((S > 0) & (S < k*k))[0])\n",
        "\n",
        "\n",
        "    # Transform Z into a binary array\n",
        "    Z = (Z < threshold)\n",
        "\n",
        "    # Minimal dimension of image\n",
        "    p = min(Z.shape)\n",
        "\n",
        "    # Greatest power of 2 less than or equal to p\n",
        "    n = 2**np.floor(np.log(p)/np.log(2))\n",
        "\n",
        "    # Extract the exponent\n",
        "    n = int(np.log(n)/np.log(2))\n",
        "\n",
        "    # Build successive box sizes (from 2**n down to 2**1)\n",
        "    sizes = 2**np.arange(n, 1, -1)\n",
        "\n",
        "    # Actual box counting with decreasing size\n",
        "    counts = []\n",
        "    for size in sizes:\n",
        "        counts.append(boxcount(Z, size))\n",
        "\n",
        "    # Fit the successive log(sizes) with log (counts)\n",
        "    coeffs = np.polyfit(np.log(sizes), np.log(counts), 1)\n",
        "    return -coeffs[0]"
      ],
      "metadata": {
        "id": "mXYe3siblGc2"
      },
      "execution_count": 108,
      "outputs": []
    },
    {
      "cell_type": "markdown",
      "source": [
        "# Box Counting Results"
      ],
      "metadata": {
        "id": "7o8HRwjR66Zy"
      }
    },
    {
      "cell_type": "code",
      "source": [
        "# Thresholded Images\n",
        "for i in range(len(images)):\n",
        "  D = fractal_dimension(images[i])\n",
        "  print(f'{filenames[i]}: {D:.2f}')"
      ],
      "metadata": {
        "colab": {
          "base_uri": "https://localhost:8080/"
        },
        "id": "oh-phA_ClXWU",
        "outputId": "b257da78-da94-4d72-fdbe-82fbc8cafc47"
      },
      "execution_count": 115,
      "outputs": [
        {
          "output_type": "stream",
          "name": "stdout",
          "text": [
            "Cottonwoods.jpg: 1.82\n",
            "Ash.jpg: 1.86\n",
            "Eucalyptus.jpg: 1.83\n",
            "Coral.jpg: 1.80\n",
            "Camphor.jpg: 1.89\n",
            "Tipu.jpg: 1.91\n",
            "ScrubOaks.jpg: 1.82\n",
            "MacDonaldOak.jpg: 1.87\n",
            "IslandOaks.jpg: 1.84\n",
            "Ironwoods.tif: 1.78\n"
          ]
        }
      ]
    },
    {
      "cell_type": "code",
      "source": [
        "# Canny Edge Extracted Images\n",
        "for i in range(len(edges)):\n",
        "  D = fractal_dimension(edges[i])\n",
        "  print(f'{filenames[i]}: {D:.2f}')"
      ],
      "metadata": {
        "colab": {
          "base_uri": "https://localhost:8080/"
        },
        "id": "Q3AzyCrOEEV6",
        "outputId": "43d27218-f265-4ece-90c8-31a7a4e00963"
      },
      "execution_count": 114,
      "outputs": [
        {
          "output_type": "stream",
          "name": "stdout",
          "text": [
            "Cottonwoods.jpg: 1.83\n",
            "Ash.jpg: 1.87\n",
            "Eucalyptus.jpg: 1.84\n",
            "Coral.jpg: 1.81\n",
            "Camphor.jpg: 1.90\n",
            "Tipu.jpg: 1.91\n",
            "ScrubOaks.jpg: 1.83\n",
            "MacDonaldOak.jpg: 1.88\n",
            "IslandOaks.jpg: 1.85\n",
            "Ironwoods.tif: 1.80\n"
          ]
        }
      ]
    }
  ]
}