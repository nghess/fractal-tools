{
  "nbformat": 4,
  "nbformat_minor": 0,
  "metadata": {
    "colab": {
      "name": "2D Fractal Boxcount.ipynb",
      "provenance": [],
      "collapsed_sections": [],
      "authorship_tag": "ABX9TyNX01Vm86TtJ9V1sBInqklk"
    },
    "kernelspec": {
      "name": "python3",
      "display_name": "Python 3"
    },
    "language_info": {
      "name": "python"
    }
  },
  "cells": [
    {
      "cell_type": "code",
      "source": [
        "import numpy as np\n",
        "import cv2\n",
        "from os import listdir\n",
        "from os.path import isfile, join"
      ],
      "metadata": {
        "id": "uy-AqyXmuuPp"
      },
      "execution_count": 116,
      "outputs": []
    },
    {
      "cell_type": "code",
      "source": [
        "from google.colab import drive\n",
        "drive.mount('/content/drive')\n",
        "mypath = '/content/drive/My Drive/hd trees/'"
      ],
      "metadata": {
        "id": "vU5jIgCmdieh",
        "colab": {
          "base_uri": "https://localhost:8080/"
        },
        "outputId": "7acf4599-0026-412f-825d-41b4b4f6639f"
      },
      "execution_count": 117,
      "outputs": [
        {
          "output_type": "stream",
          "name": "stdout",
          "text": [
            "Drive already mounted at /content/drive; to attempt to forcibly remount, call drive.mount(\"/content/drive\", force_remount=True).\n"
          ]
        }
      ]
    },
    {
      "cell_type": "markdown",
      "source": [
        "#Import and Process Images"
      ],
      "metadata": {
        "id": "0GVKq3JI6pPT"
      }
    },
    {
      "cell_type": "code",
      "source": [
        "# Import and Process Images\n",
        "filenames = [f for f in listdir(mypath) if isfile(join(mypath, f))]\n",
        "images = []\n",
        "\n",
        "# Define lower and uppper limits of what we call sky blue\n",
        "sky_lo=np.array([128,0,0])\n",
        "sky_hi=np.array([255,220,220])\n",
        "\n",
        "# Iterate through folder\n",
        "for i in range(len(filenames)):\n",
        "  image = (cv2.imread(mypath+filenames[i],1))\n",
        "  image = cv2.resize(image, None, fx=0.75, fy=0.75, interpolation=cv2.INTER_AREA)\n",
        "  \n",
        "  # Mask image to only select sky\n",
        "  mask = cv2.inRange(image,sky_lo,sky_hi)\n",
        "\n",
        "  # Change image to white where we found sky\n",
        "  image[mask>0]=(255,255,255)\n",
        "\n",
        "  # Threshold\n",
        "  gray = cv2.cvtColor(image, cv2.COLOR_BGR2GRAY)\n",
        "  thresh, image = cv2.threshold(gray, 128, 255, cv2.THRESH_OTSU)\n",
        "\n",
        "  # Add image to array\n",
        "  images.append(image)\n",
        "\n",
        "  # Write to drive\n",
        "  cv2.imwrite(f'{mypath}/processed/{filenames[i]}', image)\n",
        "\n",
        "  print(f'{i/len(filenames):.2%}')"
      ],
      "metadata": {
        "id": "9VGU47wXd2j4"
      },
      "execution_count": null,
      "outputs": []
    },
    {
      "cell_type": "markdown",
      "source": [
        "# Box Counting Function"
      ],
      "metadata": {
        "id": "xh9RQc3B61Iq"
      }
    },
    {
      "cell_type": "code",
      "source": [
        "def fractal_dimension(Z, threshold=0.9):\n",
        "\n",
        "    # Only for 2d image\n",
        "    assert(len(Z.shape) == 2)\n",
        "\n",
        "    # From https://github.com/rougier/numpy-100 (#87)\n",
        "    def boxcount(Z, k):\n",
        "        S = np.add.reduceat(\n",
        "            np.add.reduceat(Z, np.arange(0, Z.shape[0], k), axis=0),\n",
        "                               np.arange(0, Z.shape[1], k), axis=1)\n",
        "\n",
        "        # We count non-empty (0) and non-full boxes (k*k)\n",
        "        return len(np.where((S > 0) & (S < k*k))[0])\n",
        "\n",
        "\n",
        "    # Transform Z into a binary array\n",
        "    Z = (Z < threshold)\n",
        "\n",
        "    # Minimal dimension of image\n",
        "    p = min(Z.shape)\n",
        "\n",
        "    # Greatest power of 2 less than or equal to p\n",
        "    n = 2**np.floor(np.log(p)/np.log(2))\n",
        "\n",
        "    # Extract the exponent\n",
        "    n = int(np.log(n)/np.log(2))\n",
        "\n",
        "    # Build successive box sizes (from 2**n down to 2**1)\n",
        "    sizes = 2**np.arange(n, 1, -1)\n",
        "\n",
        "    # Actual box counting with decreasing size\n",
        "    counts = []\n",
        "    for size in sizes:\n",
        "        counts.append(boxcount(Z, size))\n",
        "\n",
        "    # Fit the successive log(sizes) with log (counts)\n",
        "    coeffs = np.polyfit(np.log(sizes), np.log(counts), 1)\n",
        "    return -coeffs[0]"
      ],
      "metadata": {
        "id": "mXYe3siblGc2"
      },
      "execution_count": 120,
      "outputs": []
    },
    {
      "cell_type": "markdown",
      "source": [
        "# Box Counting Results"
      ],
      "metadata": {
        "id": "7o8HRwjR66Zy"
      }
    },
    {
      "cell_type": "code",
      "source": [
        "# Thresholded Images\n",
        "for i in range(len(images)):\n",
        "  D = fractal_dimension(images[i])\n",
        "  print(f'{filenames[i]}: D~{D:.2f}')"
      ],
      "metadata": {
        "colab": {
          "base_uri": "https://localhost:8080/"
        },
        "id": "oh-phA_ClXWU",
        "outputId": "2f7cce1f-7ff9-4702-990a-f930556e5f84"
      },
      "execution_count": 121,
      "outputs": [
        {
          "output_type": "stream",
          "name": "stdout",
          "text": [
            "Cottonwoods.jpg: 1.86\n",
            "Ash.jpg: 1.88\n",
            "Eucalyptus.jpg: 1.86\n",
            "Coral.jpg: 1.82\n",
            "Camphor.jpg: 1.92\n",
            "Tipu.jpg: 1.93\n",
            "ScrubOaks.jpg: 1.81\n",
            "MacDonaldOak.jpg: 1.89\n",
            "IslandOaks.jpg: 1.87\n",
            "Ironwoods.tif: 1.80\n"
          ]
        }
      ]
    }
  ]
}