{
  "nbformat": 4,
  "nbformat_minor": 0,
  "metadata": {
    "colab": {
      "name": "2D Fractal Boxcount - Single D.ipynb",
      "provenance": [],
      "collapsed_sections": [],
      "authorship_tag": "ABX9TyPQjKvpHBJWzup0f5Oziqy9",
      "include_colab_link": true
    },
    "kernelspec": {
      "name": "python3",
      "display_name": "Python 3"
    },
    "language_info": {
      "name": "python"
    }
  },
  "cells": [
    {
      "cell_type": "markdown",
      "metadata": {
        "id": "view-in-github",
        "colab_type": "text"
      },
      "source": [
        "<a href=\"https://colab.research.google.com/github/nghess/fractal-tools/blob/main/2D_Fractal_Boxcount_Single_D.ipynb\" target=\"_parent\"><img src=\"https://colab.research.google.com/assets/colab-badge.svg\" alt=\"Open In Colab\"/></a>"
      ]
    },
    {
      "cell_type": "code",
      "source": [
        "import numpy as np\n",
        "import cv2\n",
        "from os import listdir\n",
        "from os.path import isfile, join"
      ],
      "metadata": {
        "id": "uy-AqyXmuuPp"
      },
      "execution_count": 60,
      "outputs": []
    },
    {
      "cell_type": "code",
      "source": [
        "from google.colab import drive\n",
        "drive.mount('/content/drive')\n",
        "mypath = '/content/drive/My Drive/fractal_test_images/solid/'"
      ],
      "metadata": {
        "id": "vU5jIgCmdieh",
        "colab": {
          "base_uri": "https://localhost:8080/"
        },
        "outputId": "c4d32f78-84b1-4986-c85b-a079f660d2a9"
      },
      "execution_count": 65,
      "outputs": [
        {
          "output_type": "stream",
          "name": "stdout",
          "text": [
            "Drive already mounted at /content/drive; to attempt to forcibly remount, call drive.mount(\"/content/drive\", force_remount=True).\n"
          ]
        }
      ]
    },
    {
      "cell_type": "markdown",
      "source": [
        "#Import and Process Images"
      ],
      "metadata": {
        "id": "0GVKq3JI6pPT"
      }
    },
    {
      "cell_type": "code",
      "source": [
        "# Import and Process Images\n",
        "filenames = sorted([f for f in listdir(mypath) if isfile(join(mypath, f))])\n",
        "images = []\n",
        "\n",
        "# Iterate through folder\n",
        "for i in range(len(filenames)):\n",
        "  image = cv2.imread(mypath+filenames[i], 0)\n",
        "  #image = cv2.resize(image, None, fx=1, fy=1, interpolation=cv2.INTER_AREA)\n",
        "  # Add image to list\n",
        "  images.append(image)\n",
        "  print(f'{filenames[i]} - {np.shape(image)}') # Print filename and dimensions"
      ],
      "metadata": {
        "id": "9VGU47wXd2j4",
        "colab": {
          "base_uri": "https://localhost:8080/"
        },
        "outputId": "972f0630-71c9-49ed-bcb8-477c788ab6e3"
      },
      "execution_count": 66,
      "outputs": [
        {
          "output_type": "stream",
          "name": "stdout",
          "text": [
            "s2_d1.0.png - (915, 915)\n",
            "s2_d1.1.png - (915, 915)\n",
            "s2_d1.2.png - (915, 915)\n",
            "s2_d1.3.png - (915, 915)\n",
            "s2_d1.5.png - (915, 915)\n",
            "s2_d1.6.png - (915, 915)\n",
            "s2_d1.8.png - (915, 915)\n",
            "s2_d1.9.png - (915, 915)\n",
            "s2_d2.0.png - (915, 915)\n"
          ]
        }
      ]
    },
    {
      "cell_type": "markdown",
      "source": [
        "# Box Counting Function"
      ],
      "metadata": {
        "id": "xh9RQc3B61Iq"
      }
    },
    {
      "cell_type": "code",
      "source": [
        "def fractal_dimension(Z, threshold=0.9):\n",
        "\n",
        "    # Only for 2d image\n",
        "    assert(len(Z.shape) == 2)\n",
        "\n",
        "    # From https://github.com/rougier/numpy-100 (#87)\n",
        "    def boxcount(Z, k):\n",
        "        S = np.add.reduceat(\n",
        "            np.add.reduceat(Z, np.arange(0, Z.shape[0], k), axis=0),\n",
        "                               np.arange(0, Z.shape[1], k), axis=1)\n",
        "\n",
        "        # We count non-empty (0) and non-full boxes (k*k)\n",
        "        return len(np.where((S > 0) & (S < k*k))[0])\n",
        "\n",
        "    # Transform Z into a binary array\n",
        "    Z = (Z < threshold)\n",
        "\n",
        "    # Minimal dimension of image\n",
        "    p = min(Z.shape)\n",
        "\n",
        "    # Greatest power of 2 less than or equal to p\n",
        "    n = 2**np.floor(np.log(p)/np.log(2))\n",
        "\n",
        "    # Extract the exponent\n",
        "    n = int(np.log(n)/np.log(2))\n",
        "\n",
        "    # Build successive box sizes (from 2**n down to 2**1)\n",
        "    sizes = 2**np.arange(n, 1, -1)\n",
        "\n",
        "    # Actual box counting with decreasing size\n",
        "    counts = []\n",
        "    for size in sizes:\n",
        "        counts.append(boxcount(Z, size))\n",
        "\n",
        "    # Fit the successive log(sizes) with log (counts)\n",
        "    coeffs = np.polyfit(np.log(sizes), np.log(counts), 1)\n",
        "    return -coeffs[0]"
      ],
      "metadata": {
        "id": "mXYe3siblGc2"
      },
      "execution_count": 67,
      "outputs": []
    },
    {
      "cell_type": "markdown",
      "source": [
        "# Box Counting Results"
      ],
      "metadata": {
        "id": "7o8HRwjR66Zy"
      }
    },
    {
      "cell_type": "code",
      "source": [
        "# Thresholded Images\n",
        "for i in range(len(images)):\n",
        "  D = fractal_dimension(np.asarray(images[i]))\n",
        "  print(f'{filenames[i]}: D~{D:.2f}')"
      ],
      "metadata": {
        "colab": {
          "base_uri": "https://localhost:8080/"
        },
        "id": "oh-phA_ClXWU",
        "outputId": "7896c3dc-3181-4c43-b65c-7b6e03dbaa2b"
      },
      "execution_count": 72,
      "outputs": [
        {
          "output_type": "stream",
          "name": "stdout",
          "text": [
            "s2_d1.0.png: D~1.18\n",
            "s2_d1.1.png: D~1.25\n",
            "s2_d1.2.png: D~1.32\n",
            "s2_d1.3.png: D~1.40\n",
            "s2_d1.5.png: D~1.59\n",
            "s2_d1.6.png: D~1.69\n",
            "s2_d1.8.png: D~1.83\n",
            "s2_d1.9.png: D~1.88\n",
            "s2_d2.0.png: D~1.91\n"
          ]
        }
      ]
    }
  ]
}