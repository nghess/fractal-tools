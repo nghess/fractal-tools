{
  "nbformat": 4,
  "nbformat_minor": 0,
  "metadata": {
    "colab": {
      "provenance": [],
      "collapsed_sections": [],
      "authorship_tag": "ABX9TyM42WBoaAyI4N9ucnuKhjBA"
    },
    "kernelspec": {
      "name": "python3",
      "display_name": "Python 3"
    },
    "language_info": {
      "name": "python"
    }
  },
  "cells": [
    {
      "cell_type": "code",
      "source": [
        "import numpy as np\n",
        "import cv2\n",
        "from os import listdir\n",
        "from os.path import isfile, join\n",
        "from google.colab.patches import cv2_imshow\n",
        "import matplotlib"
      ],
      "metadata": {
        "id": "uy-AqyXmuuPp"
      },
      "execution_count": null,
      "outputs": []
    },
    {
      "cell_type": "code",
      "source": [
        "from google.colab import drive\n",
        "drive.mount('/content/drive')\n",
        "mypath = '/content/drive/My Drive/fractal_test_images/multi/'"
      ],
      "metadata": {
        "id": "vU5jIgCmdieh"
      },
      "execution_count": null,
      "outputs": []
    },
    {
      "cell_type": "markdown",
      "source": [
        "#Import and Process Images"
      ],
      "metadata": {
        "id": "0GVKq3JI6pPT"
      }
    },
    {
      "cell_type": "code",
      "source": [
        "# Import and Process Images\n",
        "filenames = sorted([f for f in listdir(mypath) if isfile(join(mypath, f))])\n",
        "images = []\n",
        "\n",
        "# Iterate through folder\n",
        "for i in range(len(filenames)):\n",
        "  image = cv2.imread(mypath+filenames[i], 0)\n",
        "  # Add image to list\n",
        "  images.append(image)\n",
        "  print(f'{filenames[i]} - {np.shape(image)}') # Print filename and dimensions"
      ],
      "metadata": {
        "id": "9VGU47wXd2j4"
      },
      "execution_count": null,
      "outputs": []
    },
    {
      "cell_type": "markdown",
      "source": [
        "# Box Counting Function"
      ],
      "metadata": {
        "id": "xh9RQc3B61Iq"
      }
    },
    {
      "cell_type": "code",
      "source": [
        "def fractal_dimension(Z, threshold=0.5, thumb=False):\n",
        "\n",
        "    # Only for 2d image\n",
        "    assert(len(Z.shape) == 2)\n",
        "\n",
        "    # From https://github.com/rougier/numpy-100 (#87)\n",
        "    def boxcount(Z, k):\n",
        "        S = np.add.reduceat(\n",
        "            np.add.reduceat(Z, np.arange(0, Z.shape[0], k), axis=0),\n",
        "                               np.arange(0, Z.shape[1], k), axis=1)\n",
        "\n",
        "        # We count non-empty (0) and non-full boxes (k*k)\n",
        "        return len(np.where((S > 0) & (S < k*k))[0])\n",
        "\n",
        "    # Transform Z into a binary array\n",
        "    Z = (Z < threshold)\n",
        "    \n",
        "    # Minimal dimension of image\n",
        "    p = min(Z.shape)\n",
        "\n",
        "    # Greatest power of 2 less than or equal to p\n",
        "    n = 2**np.floor(np.log(p)/np.log(2))\n",
        "\n",
        "    # Extract the exponent\n",
        "    n = int(np.log(n)/np.log(2))\n",
        "\n",
        "    # Build successive box sizes (from 2**n down to 2**1)\n",
        "    sizes = 2**np.arange(n, 1, -1)\n",
        "\n",
        "    # Actual box counting with decreasing size\n",
        "    counts = []\n",
        "    for size in sizes:\n",
        "        counts.append(boxcount(Z, size))\n",
        "\n",
        "    # Show image being analyzed \n",
        "    if thumb == True:\n",
        "      matplotlib.pyplot.imshow(Z)\n",
        "\n",
        "    # Fit the successive log(sizes) with log (counts)\n",
        "    coeffs = np.polyfit(np.log(sizes), np.log(counts), 1)\n",
        "    return -coeffs[0]"
      ],
      "metadata": {
        "id": "mXYe3siblGc2"
      },
      "execution_count": null,
      "outputs": []
    },
    {
      "cell_type": "markdown",
      "source": [
        "##K-Means Image Segmentation "
      ],
      "metadata": {
        "id": "CbNZGkZoB_mc"
      }
    },
    {
      "cell_type": "code",
      "source": [
        "# K-Means function\n",
        "def img_segment(img, k):\n",
        "  dims = img.shape # Store 2d shape\n",
        "  img = np.float32(img.reshape(-1,1)) # Reshape to 1d\n",
        "\n",
        "  # K-Means steps\n",
        "  criteria = (cv2.TERM_CRITERIA_EPS + cv2.TERM_CRITERIA_MAX_ITER, 10, 1.0)\n",
        "  passes=10\n",
        "  label = cv2.kmeans(img, k, None, criteria, passes, cv2.KMEANS_PP_CENTERS)[1]\n",
        "  labeled_img = label.reshape(dims)\n",
        "\n",
        "  # Make mask for each segmented region\n",
        "  regions = [] \n",
        "  for region in np.unique(label):\n",
        "    mask = np.array([0 if x == region else 1 for x in label])\n",
        "    mask = mask.reshape(dims)\n",
        "    regions.append(mask)\n",
        "\n",
        "  return regions"
      ],
      "metadata": {
        "id": "_8yBiu0YB9_d"
      },
      "execution_count": null,
      "outputs": []
    },
    {
      "cell_type": "code",
      "source": [
        "# Run K-Means segmentation\n",
        "regions = img_segment(images[1],2)"
      ],
      "metadata": {
        "id": "eNqXVgGDZuPF"
      },
      "execution_count": null,
      "outputs": []
    },
    {
      "cell_type": "code",
      "source": [
        "len(regions)"
      ],
      "metadata": {
        "id": "9ccTvedE11U9"
      },
      "execution_count": null,
      "outputs": []
    },
    {
      "cell_type": "markdown",
      "source": [
        "##Crop Regions & Box Count"
      ],
      "metadata": {
        "id": "Vy7NhZtgVURX"
      }
    },
    {
      "cell_type": "code",
      "source": [
        "for i in range(len(regions)):\n",
        "  \n",
        "  # Get region bounds and crop to them\n",
        "  invert = -regions[i] + 1\n",
        "  x, y = np.nonzero(invert)\n",
        "  xl,xr = x.min(),x.max()\n",
        "  yl,yr = y.min(),y.max()\n",
        "  cropped = regions[i][xl:xr+1, yl:yr+1]\n",
        "\n",
        "  # Box count cropped region\n",
        "  D = fractal_dimension(-cropped + 1)\n",
        "\n",
        "  # Plot regions and Fb results\n",
        "  matplotlib.pyplot.figure()\n",
        "  matplotlib.pyplot.title(f'{filenames[0]}: D~{D:.2f}')\n",
        "  matplotlib.pyplot.imshow(-cropped)"
      ],
      "metadata": {
        "id": "vHN6JrS_Jv-k"
      },
      "execution_count": null,
      "outputs": []
    },
    {
      "cell_type": "markdown",
      "source": [
        "# Uncropped Box Counting Results"
      ],
      "metadata": {
        "id": "7o8HRwjR66Zy"
      }
    },
    {
      "cell_type": "code",
      "source": [
        "for i in range(len(regions)-1):\n",
        "  \n",
        "  # Box count region\n",
        "  D = fractal_dimension(regions[i], thumb=True)\n",
        "  \n",
        "  # Plot regions and Fb results\n",
        "  matplotlib.pyplot.title(f'{filenames[0]}: D~{D:.2f}')\n",
        "  matplotlib.pyplot.figure()"
      ],
      "metadata": {
        "id": "oh-phA_ClXWU"
      },
      "execution_count": null,
      "outputs": []
    }
  ]
}