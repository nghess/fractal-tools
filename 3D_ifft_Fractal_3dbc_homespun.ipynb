{
  "nbformat": 4,
  "nbformat_minor": 0,
  "metadata": {
    "colab": {
      "provenance": [],
      "machine_shape": "hm",
      "authorship_tag": "ABX9TyPMUBb1IFHBG7o2RCmhjXDW"
    },
    "kernelspec": {
      "name": "python3",
      "display_name": "Python 3"
    },
    "language_info": {
      "name": "python"
    }
  },
  "cells": [
    {
      "cell_type": "code",
      "source": [
        "import numpy as np\n",
        "import matplotlib.pyplot as plt"
      ],
      "metadata": {
        "id": "uy-AqyXmuuPp"
      },
      "execution_count": 1,
      "outputs": []
    },
    {
      "cell_type": "code",
      "execution_count": 2,
      "metadata": {
        "id": "tNbHyhhcunqv"
      },
      "outputs": [],
      "source": [
        "# Parameters\n",
        "beta = 3.5\n",
        "sdim = 128"
      ]
    },
    {
      "cell_type": "code",
      "source": [
        "# Set Seed\n",
        "np.random.seed(117);"
      ],
      "metadata": {
        "id": "H645PJzO91oG"
      },
      "execution_count": 3,
      "outputs": []
    },
    {
      "cell_type": "code",
      "source": [
        "# Build power spectrum \n",
        "f = [x/sdim for x in range(1, int(sdim/2)+1)] + [x/sdim for x in range(-int(sdim/2), 0)]\n",
        "u = np.reshape(f, (sdim, 1))\n",
        "v = np.reshape(f, (1, sdim))\n",
        "w = np.reshape(f, (sdim, 1, 1))\n",
        "pattern = (u**2 + v**2 + w**2)**(-beta/2)"
      ],
      "metadata": {
        "id": "Eq600u7mvPP3"
      },
      "execution_count": 4,
      "outputs": []
    },
    {
      "cell_type": "code",
      "source": [
        "# Noise and ifft\n",
        "phases = np.random.normal(0, 255, size=[sdim, sdim, sdim]);\n",
        "pattern = np.fft.ifftn(pattern**0.5 * (np.cos(2*np.pi*phases)+1j*np.sin(2*np.pi*phases)))"
      ],
      "metadata": {
        "id": "Z_e09g9l0Ssg"
      },
      "execution_count": 5,
      "outputs": []
    },
    {
      "cell_type": "code",
      "source": [
        "# Normalize result\n",
        "pattern = np.real(pattern)\n",
        "pattern = (pattern-np.amin(pattern))/np.amax(pattern-np.amin(pattern))"
      ],
      "metadata": {
        "id": "5cJbMoe01gFv"
      },
      "execution_count": 6,
      "outputs": []
    },
    {
      "cell_type": "code",
      "source": [
        "# Binarize result for box counting\n",
        "threshold, upper, lower = 0.5, 1, 0\n",
        "pattern = np.asarray(np.where(pattern>threshold, upper, lower))"
      ],
      "metadata": {
        "id": "QrOW21iIbJSj"
      },
      "execution_count": 7,
      "outputs": []
    },
    {
      "cell_type": "code",
      "source": [
        "height = sdim+1\n",
        "# Get subdivision sizes\n",
        "n = 2**np.floor(np.log(height)/np.log(2))  # Greatest power of 2 less than or equal to canvas\n",
        "# Extract the exponent\n",
        "n = int(np.log(n)/np.log(2))\n",
        "boxes = 2**np.arange(n-1, 0, -1)\n",
        "boxcounts = {box: 0 for box in boxes}  # Dictionary to store counts for each box size"
      ],
      "metadata": {
        "id": "YyzSPzxR93Bp"
      },
      "execution_count": 8,
      "outputs": []
    },
    {
      "cell_type": "code",
      "source": [
        "def boxcount3d(sizes, save=False, visualize=False):\n",
        "    for s in sizes:\n",
        "\n",
        "        # Reset box counter\n",
        "        bc = 0\n",
        "\n",
        "        # Make list of box corners\n",
        "        corners = []\n",
        "        for z in range(0, height, int(height/s)):\n",
        "            for y in range(0, height, int(height/s)):\n",
        "                for x in range(0, height, int(height/s)):\n",
        "                    corners.append([x, y, z])\n",
        "\n",
        "\n",
        "        # Detect edges and draw box\n",
        "        for c in range(1, len(corners)-s**3):\n",
        "            boxval = np.mean(pattern[corners[c-1][0]:corners[c][0], corners[c-1][1]:corners[c+s][1], corners[c-1][2]:corners[c+s**3][2]])\n",
        "            if 0.0 < boxval < 1.0:\n",
        "                bc += 1\n",
        "\n",
        "        boxcounts[s] = bc\n",
        "\n",
        "    x = [x for x in boxcounts.keys()]\n",
        "    y = [y for y in boxcounts.values()]\n",
        "\n",
        "    m, b = np.polyfit(np.log(x), np.log(y), 1)\n",
        "    \n",
        "    return m, boxcounts"
      ],
      "metadata": {
        "id": "CnyzAb1y8wsk"
      },
      "execution_count": 9,
      "outputs": []
    },
    {
      "cell_type": "code",
      "source": [
        "s = 2\n",
        "\n",
        "corners = []\n",
        "for z in range(0, height, int(height/s)):\n",
        "    for y in range(0, height, int(height/s)):\n",
        "        for x in range(0, height, int(height/s)):\n",
        "            corners.append([x, y, z])\n",
        "\n",
        "#c = 5\n",
        "\n",
        "#print(len(corners))\n",
        "\n",
        "#print(corners[c-1][0], corners[c][0])\n",
        "#print(corners[c-1][1], corners[c+s][1])\n",
        "#print(corners[c-1][2], corners[c+s**3][2])"
      ],
      "metadata": {
        "id": "d4xf8ntlQtH0"
      },
      "execution_count": 10,
      "outputs": []
    },
    {
      "cell_type": "code",
      "source": [
        "def boxcount2d(sizes, image):\n",
        "    for s in sizes:\n",
        "\n",
        "        # Reset box counter\n",
        "        bc = 0\n",
        "\n",
        "        # Make list of box corners\n",
        "        corners = []\n",
        "        for y in range(0, height, int(height/s)):\n",
        "            for x in range(0, height, int(height/s)):\n",
        "                corners.append([x, y])\n",
        "\n",
        "        # Detect edges and draw box\n",
        "        for c in range(1, len(corners)-s):\n",
        "            boxval = np.mean(image[corners[c-1][1]:corners[c+s][1], corners[c-1][0]:corners[c][0]]) #wraparound is causing nans\n",
        "            #print(boxval)\n",
        "            if 0.0 < boxval < 1.0:\n",
        "                bc += 1\n",
        "\n",
        "        boxcounts[s] = bc\n",
        "\n",
        "    x = [x for x in boxcounts.keys()]\n",
        "    y = [y for y in boxcounts.values()]\n",
        "\n",
        "    m, b = np.polyfit(np.log(x), np.log(y), 1)\n",
        "\n",
        "    return m, boxcounts"
      ],
      "metadata": {
        "id": "76mm1nJZJw6x"
      },
      "execution_count": 20,
      "outputs": []
    },
    {
      "cell_type": "code",
      "source": [
        "boxcount3d(boxes)"
      ],
      "metadata": {
        "colab": {
          "base_uri": "https://localhost:8080/"
        },
        "id": "oqnYfegt_RFq",
        "outputId": "911cfc68-127b-4fc8-f27f-6e8a16a1d2c4"
      },
      "execution_count": 12,
      "outputs": [
        {
          "output_type": "stream",
          "name": "stderr",
          "text": [
            "/usr/local/lib/python3.7/dist-packages/numpy/core/fromnumeric.py:3441: RuntimeWarning: Mean of empty slice.\n",
            "  out=out, **kwargs)\n",
            "/usr/local/lib/python3.7/dist-packages/numpy/core/_methods.py:189: RuntimeWarning: invalid value encountered in double_scalars\n",
            "  ret = ret.dtype.type(ret / rcount)\n"
          ]
        },
        {
          "output_type": "execute_result",
          "data": {
            "text/plain": [
              "(2.1031825899841525, {64: 12160, 32: 3008, 16: 736, 8: 176, 4: 40, 2: 8})"
            ]
          },
          "metadata": {},
          "execution_count": 12
        }
      ]
    },
    {
      "cell_type": "code",
      "source": [
        "slope2d, counts = boxcount2d(boxes, pattern[-1,:,:])"
      ],
      "metadata": {
        "id": "JIgD9-BZOSG-"
      },
      "execution_count": null,
      "outputs": []
    },
    {
      "cell_type": "code",
      "source": [
        "# Get slope and plot\n",
        "x = [x for x in counts.keys()]\n",
        "y = [y for y in counts.values()]\n",
        "\n",
        "m, b = np.polyfit(np.log(x), np.log(y), 1)\n",
        "\n",
        "plt.plot(np.log(x), m*np.log(x)+b, label=f\"{round(m, 2)}\")\n",
        "plt.scatter(np.log(x), np.log(y))\n",
        "leg = plt.legend()\n",
        "plt.show()"
      ],
      "metadata": {
        "colab": {
          "base_uri": "https://localhost:8080/",
          "height": 265
        },
        "id": "YhHBleC-ImTv",
        "outputId": "f3e298e8-bff3-43c9-88d0-23afb7c12302"
      },
      "execution_count": 16,
      "outputs": [
        {
          "output_type": "display_data",
          "data": {
            "text/plain": [
              "<Figure size 432x288 with 1 Axes>"
            ],
            "image/png": "[encoded data removed]"
          },
          "metadata": {
            "needs_background": "light"
          }
        }
      ]
    },
    {
      "cell_type": "code",
      "source": [
        "def fractal_dimension_3d(Z, threshold=0.9):\n",
        "\n",
        "    # Only for 3d volume\n",
        "    assert(len(Z.shape) == 3)\n",
        "\n",
        "    # From https://github.com/rougier/numpy-100 (#87)\n",
        "    def boxcount(Z, k):\n",
        "\n",
        "        reducer = np.add.reduceat(np.add.reduceat(Z, np.arange(0, Z.shape[0], k), axis=0), np.arange(0, Z.shape[1], k), axis=1)\n",
        "\n",
        "        S = np.add.reduceat(reducer, np.arange(0, Z.shape[2], k), axis=2)\n",
        "        #print(S.shape)\n",
        "        \n",
        "        # We count non-empty (0) and non-full boxes (k*k) (is this right for 3d?)\n",
        "        return len(np.where((S > 0) & (S < k*k*k))[0])\n",
        "\n",
        "    #Transform Z into a binary array\n",
        "    Z = (Z < threshold)\n",
        "\n",
        "    # Minimal dimension of image\n",
        "    p = min(Z.shape)\n",
        "\n",
        "    # Greatest power of 2 less than or equal to p\n",
        "    n = 2**np.floor(np.log(p)/np.log(2))\n",
        "\n",
        "    # Extract the exponent\n",
        "    n = int(np.log(n)/np.log(2))\n",
        "\n",
        "    # Build successive box sizes (from 2**n down to 2**1)\n",
        "    sizes = 2**np.arange(n-1, 0, -1)\n",
        "\n",
        "    # Actual box counting with decreasing size\n",
        "    counts = []\n",
        "    for size in sizes:\n",
        "        #print(size)\n",
        "        counts.append(boxcount(Z, size))\n",
        "\n",
        "    # Fit the successive log(sizes) with log (counts)\n",
        "    m, b = np.polyfit(np.log(sizes), np.log(counts), 1)\n",
        "    return -m, b, sizes, counts\n",
        "\n",
        "def fractal_dimension_2d(Z, threshold=0.9):\n",
        "\n",
        "    # Only for 2d image\n",
        "    assert(len(Z.shape) == 2)\n",
        "\n",
        "    # From https://github.com/rougier/numpy-100 (#87)\n",
        "    def boxcount(Z, k):\n",
        "        S = np.add.reduceat(\n",
        "            np.add.reduceat(Z, np.arange(0, Z.shape[0], k), axis=0),\n",
        "                               np.arange(0, Z.shape[1], k), axis=1)\n",
        "        #print(S.shape)\n",
        "        # We count non-empty (0) and non-full boxes (k*k)\n",
        "        return len(np.where((S > 0) & (S < k*k))[0])\n",
        "\n",
        "    #Transform Z into a binary array\n",
        "    Z = (Z < threshold)\n",
        "\n",
        "    # Minimal dimension of image\n",
        "    p = min(Z.shape)\n",
        "\n",
        "    # Greatest power of 2 less than or equal to p\n",
        "    n = 2**np.floor(np.log(p)/np.log(2))\n",
        "\n",
        "    # Extract the exponent\n",
        "    n = int(np.log(n)/np.log(2))\n",
        "\n",
        "    # Build successive box sizes (from 2**n down to 2**1)\n",
        "    sizes = 2**np.arange(n-1, 0, -1)\n",
        "\n",
        "\n",
        "    # Actual box counting with decreasing size\n",
        "    counts = []\n",
        "    for size in sizes:\n",
        "        #print(size)\n",
        "        counts.append(boxcount(Z, size))\n",
        "\n",
        "    # Fit the successive log(sizes) with log (counts)\n",
        "    m, b = np.polyfit(np.log(sizes), np.log(counts), 1)\n",
        "    return -m, b, sizes, counts"
      ],
      "metadata": {
        "id": "AmeRmrkfeVQ_"
      },
      "execution_count": 26,
      "outputs": []
    },
    {
      "cell_type": "code",
      "source": [
        "test2d = pattern[-1,:,:]\n",
        "plt.imshow(test2d)"
      ],
      "metadata": {
        "id": "dkoW9plwisKY",
        "colab": {
          "base_uri": "https://localhost:8080/",
          "height": 286
        },
        "outputId": "4c2d066d-d02a-4135-9383-87c566c31811"
      },
      "execution_count": 18,
      "outputs": [
        {
          "output_type": "execute_result",
          "data": {
            "text/plain": [
              "<matplotlib.image.AxesImage at 0x7ff1bafaf910>"
            ]
          },
          "metadata": {},
          "execution_count": 18
        },
        {
          "output_type": "display_data",
          "data": {
            "text/plain": [
              "<Figure size 432x288 with 1 Axes>"
            ],
            "image/png": "[encoded data removed]"
          },
          "metadata": {
            "needs_background": "light"
          }
        }
      ]
    },
    {
      "cell_type": "code",
      "source": [
        "avg2d = []\n",
        "avg2d_hm = []\n",
        "\n",
        "for i in range(len(pattern)):\n",
        "  slice = pattern[i,:,:]\n",
        "  slope2d, intercept2d, sz2d, count2d = fractal_dimension_2d(pattern[i,:,:])\n",
        "  hm2d, count = boxcount2d(boxes, slice)\n",
        "  avg2d.append(slope2d)\n",
        "  avg2d_hm.append(hm2d)\n",
        "\n",
        "slope2d1 = np.mean(avg2d)\n",
        "slope2d2 = np.mean(avg2d_hm)\n",
        "\n",
        "print(slope2d1)\n",
        "print(slope2d2)"
      ],
      "metadata": {
        "id": "OVBPpdBzIqG0",
        "colab": {
          "base_uri": "https://localhost:8080/"
        },
        "outputId": "44784833-e935-4668-8919-65e15b68e468"
      },
      "execution_count": 27,
      "outputs": [
        {
          "output_type": "stream",
          "name": "stderr",
          "text": [
            "/usr/local/lib/python3.7/dist-packages/numpy/core/fromnumeric.py:3441: RuntimeWarning: Mean of empty slice.\n",
            "  out=out, **kwargs)\n",
            "/usr/local/lib/python3.7/dist-packages/numpy/core/_methods.py:189: RuntimeWarning: invalid value encountered in double_scalars\n",
            "  ret = ret.dtype.type(ret / rcount)\n"
          ]
        },
        {
          "output_type": "stream",
          "name": "stdout",
          "text": [
            "1.7118372478819586\n",
            "1.7118372478819588\n"
          ]
        }
      ]
    },
    {
      "cell_type": "code",
      "source": [
        "print(np.min(avg2d))\n",
        "print(np.min(avg2d_hm))"
      ],
      "metadata": {
        "colab": {
          "base_uri": "https://localhost:8080/"
        },
        "id": "o1LPLSzGTpIZ",
        "outputId": "523a6c1f-8fe9-4dc3-f1ce-c8c86d87e0f4"
      },
      "execution_count": 28,
      "outputs": [
        {
          "output_type": "stream",
          "name": "stdout",
          "text": [
            "1.6636739989972413\n",
            "1.6636739989972416\n"
          ]
        }
      ]
    },
    {
      "cell_type": "code",
      "source": [
        "print(np.max(avg2d))\n",
        "print(np.max(avg2d_hm))"
      ],
      "metadata": {
        "colab": {
          "base_uri": "https://localhost:8080/"
        },
        "id": "XYhBy1F9TtNc",
        "outputId": "facbad68-ff81-4884-c92c-9ec52a3773cd"
      },
      "execution_count": 29,
      "outputs": [
        {
          "output_type": "stream",
          "name": "stdout",
          "text": [
            "1.7546060286631955\n",
            "1.7546060286631948\n"
          ]
        }
      ]
    },
    {
      "cell_type": "code",
      "source": [
        "fractal_dimension_3d(np.asarray(pattern))"
      ],
      "metadata": {
        "id": "73fE31tJfGzn",
        "colab": {
          "base_uri": "https://localhost:8080/"
        },
        "outputId": "6b37b535-0690-4a22-d1d0-540ef022785f"
      },
      "execution_count": 30,
      "outputs": [
        {
          "output_type": "execute_result",
          "data": {
            "text/plain": [
              "(2.8199299021563067,\n",
              " 13.961804033838497,\n",
              " array([64, 32, 16,  8,  4,  2]),\n",
              " [8, 64, 512, 4062, 27907, 120687])"
            ]
          },
          "metadata": {},
          "execution_count": 30
        }
      ]
    },
    {
      "cell_type": "code",
      "source": [
        "plt.plot(np.log(sz2d), slope2d*np.log(sz2d)+np.log(intercept2d), label=f\"{round(slope2d, 2)}\")\n",
        "\n",
        "slope3d, intercept3d, sz3d, count3d = fractal_dimension_3d(np.asarray(pattern))\n",
        "plt.plot(np.log(sz3d), slope3d*np.log(sz3d)+np.log(intercept3d), label=f\"{round(slope3d, 2)}\")\n",
        "\n",
        "leg = plt.legend()\n",
        "plt.show()"
      ],
      "metadata": {
        "colab": {
          "base_uri": "https://localhost:8080/",
          "height": 265
        },
        "id": "s-KM0ca5GtXk",
        "outputId": "e80c049b-986e-4dc7-8ca1-1ba0f6e0bdcf"
      },
      "execution_count": 31,
      "outputs": [
        {
          "output_type": "display_data",
          "data": {
            "text/plain": [
              "<Figure size 432x288 with 1 Axes>"
            ],
            "image/png": "[encoded data removed]"
          },
          "metadata": {
            "needs_background": "light"
          }
        }
      ]
    }
  ]
}