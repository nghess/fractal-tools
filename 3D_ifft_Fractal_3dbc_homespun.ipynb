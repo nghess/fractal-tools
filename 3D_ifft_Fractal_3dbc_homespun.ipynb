{
  "nbformat": 4,
  "nbformat_minor": 0,
  "metadata": {
    "colab": {
      "provenance": [],
      "machine_shape": "hm",
      "authorship_tag": "ABX9TyO/Y60tL9ANDLoUJjoFIuh+"
    },
    "kernelspec": {
      "name": "python3",
      "display_name": "Python 3"
    },
    "language_info": {
      "name": "python"
    }
  },
  "cells": [
    {
      "cell_type": "code",
      "source": [
        "import numpy as np\n",
        "import matplotlib.pyplot as plt"
      ],
      "metadata": {
        "id": "uy-AqyXmuuPp"
      },
      "execution_count": 1,
      "outputs": []
    },
    {
      "cell_type": "code",
      "execution_count": 96,
      "metadata": {
        "id": "tNbHyhhcunqv"
      },
      "outputs": [],
      "source": [
        "# Parameters\n",
        "beta = 5\n",
        "sdim = 32"
      ]
    },
    {
      "cell_type": "code",
      "source": [
        "# Set Seed\n",
        "np.random.seed(117);"
      ],
      "metadata": {
        "id": "H645PJzO91oG"
      },
      "execution_count": 97,
      "outputs": []
    },
    {
      "cell_type": "code",
      "source": [
        "# Build power spectrum \n",
        "f = [x/sdim for x in range(1, int(sdim/2)+1)] + [x/sdim for x in range(-int(sdim/2), 0)]\n",
        "u = np.reshape(f, (sdim, 1))\n",
        "v = np.reshape(f, (1, sdim))\n",
        "w = np.reshape(f, (sdim, 1, 1))\n",
        "pattern = (u**2 + v**2 + w**2)**(-beta/2)"
      ],
      "metadata": {
        "id": "Eq600u7mvPP3"
      },
      "execution_count": 98,
      "outputs": []
    },
    {
      "cell_type": "code",
      "source": [
        "# Noise and ifft\n",
        "phases = np.random.normal(0, 255, size=[sdim, sdim, sdim]);\n",
        "pattern = np.fft.ifftn(pattern**0.5 * (np.cos(2*np.pi*phases)+1j*np.sin(2*np.pi*phases)))"
      ],
      "metadata": {
        "id": "Z_e09g9l0Ssg"
      },
      "execution_count": 99,
      "outputs": []
    },
    {
      "cell_type": "code",
      "source": [
        "# Normalize result\n",
        "pattern = np.real(pattern)\n",
        "pattern = (pattern-np.amin(pattern))/np.amax(pattern-np.amin(pattern))"
      ],
      "metadata": {
        "id": "5cJbMoe01gFv"
      },
      "execution_count": 100,
      "outputs": []
    },
    {
      "cell_type": "code",
      "source": [
        "# Binarize result for box counting\n",
        "threshold, upper, lower = 0.5, 1, 0\n",
        "pattern = np.asarray(np.where(pattern>threshold, upper, lower))"
      ],
      "metadata": {
        "id": "QrOW21iIbJSj"
      },
      "execution_count": 101,
      "outputs": []
    },
    {
      "cell_type": "code",
      "source": [
        "height = sdim+1\n",
        "# Get subdivision sizes\n",
        "n = 2**np.floor(np.log(height)/np.log(2))  # Greatest power of 2 less than or equal to canvas\n",
        "# Extract the exponent\n",
        "n = int(np.log(n)/np.log(2))\n",
        "boxes = 2**np.arange(n-1, 0, -1)\n",
        "boxcounts = {box: 0 for box in boxes}  # Dictionary to store counts for each box size"
      ],
      "metadata": {
        "id": "YyzSPzxR93Bp"
      },
      "execution_count": 102,
      "outputs": []
    },
    {
      "cell_type": "code",
      "source": [
        "def boxcount3d(sizes, save=False, visualize=False):\n",
        "    for s in sizes:\n",
        "\n",
        "        # Reset box counter\n",
        "        bc = 0\n",
        "\n",
        "        # Make list of box corners\n",
        "        corners = []\n",
        "        for z in range(0, height, int(height/s)):\n",
        "            for y in range(0, height, int(height/s)):\n",
        "                for x in range(0, height, int(height/s)):\n",
        "                    corners.append([x, y, z])\n",
        "\n",
        "\n",
        "        # Detect edges and draw box\n",
        "        for c in range(1, len(corners)-s**3):\n",
        "            boxval = np.mean(pattern[corners[c-1][0]:corners[c][0], corners[c-1][1]:corners[c+s][1], corners[c-1][2]:corners[c+s**3][2]])\n",
        "            if 0.0 < boxval < 1.0:\n",
        "                bc += 1\n",
        "\n",
        "        boxcounts[s] = bc\n",
        "    \n",
        "    return boxcounts\n",
        "\n",
        "#print(corners[c-1][0], corners[c][0])\n",
        "#print(corners[c-1][1], corners[c+s][1])\n",
        "#print(corners[c-1][2], corners[c+s**3][2])"
      ],
      "metadata": {
        "id": "CnyzAb1y8wsk"
      },
      "execution_count": 129,
      "outputs": []
    },
    {
      "cell_type": "code",
      "source": [
        "counts = boxcount3d(boxes)"
      ],
      "metadata": {
        "id": "oqnYfegt_RFq"
      },
      "execution_count": 131,
      "outputs": []
    },
    {
      "cell_type": "code",
      "source": [
        "# Get slope and plot\n",
        "x = [x for x in counts.keys()]\n",
        "y = [y for y in counts.values()]\n",
        "\n",
        "m, b = np.polyfit(np.log(x), np.log(y), 1)\n",
        "print(m)\n",
        "\n",
        "#plt.xscale(\"log\")\n",
        "#plt.yscale(\"log\")\n",
        "\n",
        "plt.plot(np.log(x), m*np.log(x)+b, label=f\"{round(m, 2)}\")\n",
        "plt.scatter(np.log(x), np.log(y))"
      ],
      "metadata": {
        "colab": {
          "base_uri": "https://localhost:8080/",
          "height": 302
        },
        "id": "YhHBleC-ImTv",
        "outputId": "7c8c559b-b3d1-4ca6-dd13-9118f74878c1"
      },
      "execution_count": 132,
      "outputs": [
        {
          "output_type": "stream",
          "name": "stdout",
          "text": [
            "2.1672761485052088\n"
          ]
        },
        {
          "output_type": "execute_result",
          "data": {
            "text/plain": [
              "<matplotlib.collections.PathCollection at 0x7f145fe0f3d0>"
            ]
          },
          "metadata": {},
          "execution_count": 132
        },
        {
          "output_type": "display_data",
          "data": {
            "text/plain": [
              "<Figure size 432x288 with 1 Axes>"
            ],
            "image/png": "[encoded data removed]"
          },
          "metadata": {
            "needs_background": "light"
          }
        }
      ]
    },
    {
      "cell_type": "code",
      "source": [
        "def fractal_dimension_3d(Z, threshold=0.9):\n",
        "\n",
        "    # Only for 3d volume\n",
        "    assert(len(Z.shape) == 3)\n",
        "\n",
        "    # From https://github.com/rougier/numpy-100 (#87)\n",
        "    def boxcount(Z, k):\n",
        "\n",
        "        reducer = np.add.reduceat(np.add.reduceat(Z, np.arange(0, Z.shape[0], k), axis=0), np.arange(0, Z.shape[1], k), axis=1)\n",
        "\n",
        "        S = np.add.reduceat(reducer, np.arange(0, Z.shape[2], k), axis=2)\n",
        "        #print(S.shape)\n",
        "        \n",
        "        # We count non-empty (0) and non-full boxes (k*k) (is this right for 3d?)\n",
        "        return len(np.where((S > 0) & (S < k*k*k))[0])\n",
        "\n",
        "    #Transform Z into a binary array\n",
        "    Z = (Z < threshold)\n",
        "\n",
        "    # Minimal dimension of image\n",
        "    p = min(Z.shape)\n",
        "\n",
        "    # Greatest power of 2 less than or equal to p\n",
        "    n = 2**np.floor(np.log(p)/np.log(2))\n",
        "\n",
        "    # Extract the exponent\n",
        "    n = int(np.log(n)/np.log(2))\n",
        "\n",
        "    # Build successive box sizes (from 2**n down to 2**1)\n",
        "    sizes = 2**np.arange(n-1, 0, -1)\n",
        "\n",
        "    # Actual box counting with decreasing size\n",
        "    counts = []\n",
        "    for size in sizes:\n",
        "        #print(size)\n",
        "        counts.append(boxcount(Z, size))\n",
        "\n",
        "    # Fit the successive log(sizes) with log (counts)\n",
        "    m, b = np.polyfit(np.log(sizes), np.log(counts), 1)\n",
        "    return -m, b, sizes, counts\n",
        "\n",
        "def fractal_dimension_2d(Z, threshold=0.9):\n",
        "\n",
        "    # Only for 2d image\n",
        "    assert(len(Z.shape) == 2)\n",
        "\n",
        "    # From https://github.com/rougier/numpy-100 (#87)\n",
        "    def boxcount(Z, k):\n",
        "        S = np.add.reduceat(\n",
        "            np.add.reduceat(Z, np.arange(0, Z.shape[0], k), axis=0),\n",
        "                               np.arange(0, Z.shape[1], k), axis=1)\n",
        "        #print(S.shape)\n",
        "        # We count non-empty (0) and non-full boxes (k*k)\n",
        "        return len(np.where((S > 0) & (S < k*k))[0])\n",
        "\n",
        "    #Transform Z into a binary array\n",
        "    Z = (Z < threshold)\n",
        "\n",
        "    # Minimal dimension of image\n",
        "    p = min(Z.shape)\n",
        "\n",
        "    # Greatest power of 2 less than or equal to p\n",
        "    n = 2**np.floor(np.log(p)/np.log(2))\n",
        "\n",
        "    # Extract the exponent\n",
        "    n = int(np.log(n)/np.log(2))\n",
        "\n",
        "    # Build successive box sizes (from 2**n down to 2**1)\n",
        "    #sizes = 2**np.arange(n-1, 0, -1)\n",
        "    sizes = np.arange(p, 0, -2)\n",
        "\n",
        "    # Actual box counting with decreasing size\n",
        "    counts = []\n",
        "    for size in sizes:\n",
        "        #print(size)\n",
        "        counts.append(boxcount(Z, size))\n",
        "\n",
        "    # Fit the successive log(sizes) with log (counts)\n",
        "    m, b = np.polyfit(np.log(sizes), np.log(counts), 1)\n",
        "    return -m, b, sizes, counts"
      ],
      "metadata": {
        "id": "AmeRmrkfeVQ_"
      },
      "execution_count": 27,
      "outputs": []
    },
    {
      "cell_type": "code",
      "source": [
        "test2d = pattern[-1,:,:]\n",
        "plt.imshow(test2d)"
      ],
      "metadata": {
        "id": "dkoW9plwisKY",
        "colab": {
          "base_uri": "https://localhost:8080/",
          "height": 287
        },
        "outputId": "45c6edbc-7fd2-4c12-fd22-edcec3ec0ada"
      },
      "execution_count": 28,
      "outputs": [
        {
          "output_type": "execute_result",
          "data": {
            "text/plain": [
              "<matplotlib.image.AxesImage at 0x7f28c4879f10>"
            ]
          },
          "metadata": {},
          "execution_count": 28
        },
        {
          "output_type": "display_data",
          "data": {
            "text/plain": [
              "<Figure size 432x288 with 1 Axes>"
            ],
            "image/png": "[encoded data removed]"
          },
          "metadata": {
            "needs_background": "light"
          }
        }
      ]
    },
    {
      "cell_type": "code",
      "source": [
        "avg2d = []\n",
        "\n",
        "for i in range(len(pattern)):\n",
        "  slope2d, intercept2d, sz2d, count2d = fractal_dimension_2d(pattern[i,:,:])\n",
        "  avg2d.append(slope2d)\n",
        "\n",
        "slope2d = np.mean(avg2d)"
      ],
      "metadata": {
        "id": "OVBPpdBzIqG0"
      },
      "execution_count": 29,
      "outputs": []
    },
    {
      "cell_type": "code",
      "source": [
        "np.min(avg2d)"
      ],
      "metadata": {
        "colab": {
          "base_uri": "https://localhost:8080/"
        },
        "id": "o1LPLSzGTpIZ",
        "outputId": "6b46580c-9834-45d8-df5d-fb53c8655753"
      },
      "execution_count": 32,
      "outputs": [
        {
          "output_type": "execute_result",
          "data": {
            "text/plain": [
              "0.9486624125014814"
            ]
          },
          "metadata": {},
          "execution_count": 32
        }
      ]
    },
    {
      "cell_type": "code",
      "source": [
        "np.max(avg2d)"
      ],
      "metadata": {
        "colab": {
          "base_uri": "https://localhost:8080/"
        },
        "id": "XYhBy1F9TtNc",
        "outputId": "a2d75129-9cb5-4aee-8620-923610ceec1a"
      },
      "execution_count": 33,
      "outputs": [
        {
          "output_type": "execute_result",
          "data": {
            "text/plain": [
              "1.1814395599079641"
            ]
          },
          "metadata": {},
          "execution_count": 33
        }
      ]
    },
    {
      "cell_type": "code",
      "source": [
        "fractal_dimension_3d(np.asarray(pattern))"
      ],
      "metadata": {
        "id": "73fE31tJfGzn",
        "colab": {
          "base_uri": "https://localhost:8080/"
        },
        "outputId": "3b67793f-969c-41cf-d0e5-4b0727f842bc"
      },
      "execution_count": 30,
      "outputs": [
        {
          "output_type": "execute_result",
          "data": {
            "text/plain": [
              "(1.9856629261998877,\n",
              " 13.605573590073444,\n",
              " array([256, 128,  64,  32,  16,   8,   4,   2]),\n",
              " [8, 61, 257, 1029, 4040, 15129, 51809, 138182])"
            ]
          },
          "metadata": {},
          "execution_count": 30
        }
      ]
    },
    {
      "cell_type": "code",
      "source": [
        "plt.plot(np.log(sz2d), slope2d*np.log(sz2d)+np.log(intercept2d), label=f\"{round(slope2d, 2)}\")\n",
        "\n",
        "slope3d, intercept3d, sz3d, count3d = fractal_dimension_3d(np.asarray(pattern))\n",
        "plt.plot(np.log(sz3d), slope3d*np.log(sz3d)+np.log(intercept3d), label=f\"{round(slope3d, 2)}\")\n",
        "\n",
        "leg = plt.legend()\n",
        "plt.show()"
      ],
      "metadata": {
        "colab": {
          "base_uri": "https://localhost:8080/",
          "height": 266
        },
        "id": "s-KM0ca5GtXk",
        "outputId": "dbd3c4aa-a6ba-4d73-9310-62484fc2af6a"
      },
      "execution_count": 31,
      "outputs": [
        {
          "output_type": "display_data",
          "data": {
            "text/plain": [
              "<Figure size 432x288 with 1 Axes>"
            ],
            "image/png": "[encoded data removed]"
          },
          "metadata": {
            "needs_background": "light"
          }
        }
      ]
    }
  ]
}